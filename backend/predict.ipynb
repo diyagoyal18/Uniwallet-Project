{
 "cells": [
  {
   "cell_type": "code",
   "execution_count": 3,
   "metadata": {},
   "outputs": [],
   "source": [
    "import os\n",
    "import sys\n",
    "import datetime\n",
    "import numpy as np\n",
    "import pandas as pd\n",
    "\n",
    "import yfinance as yf\n",
    "\n",
    "import matplotlib.pyplot as plt\n",
    "%matplotlib inline"
   ]
  },
  {
   "cell_type": "code",
   "execution_count": 4,
   "metadata": {},
   "outputs": [
    {
     "data": {
      "text/plain": [
       "(datetime.date(2010, 1, 1), datetime.date(2024, 2, 24))"
      ]
     },
     "execution_count": 4,
     "metadata": {},
     "output_type": "execute_result"
    }
   ],
   "source": [
    "start_date = datetime.datetime(2010, 1, 1).date()\n",
    "end_date = datetime.datetime.now().date()\n",
    "start_date, end_date"
   ]
  },
  {
   "cell_type": "code",
   "execution_count": 5,
   "metadata": {},
   "outputs": [
    {
     "data": {
      "text/plain": [
       "datetime.timedelta(days=5167)"
      ]
     },
     "execution_count": 5,
     "metadata": {},
     "output_type": "execute_result"
    }
   ],
   "source": [
    "end_date-start_date"
   ]
  },
  {
   "cell_type": "code",
   "execution_count": 6,
   "metadata": {},
   "outputs": [],
   "source": [
    "ticker = \"GOOGL\"\n",
    "# ticker = \"MSFT\"\n",
    "# ticker = \"FB\""
   ]
  },
  {
   "cell_type": "code",
   "execution_count": 7,
   "metadata": {},
   "outputs": [
    {
     "data": {
      "text/plain": [
       "yfinance.Ticker object <GOOGL>"
      ]
     },
     "execution_count": 7,
     "metadata": {},
     "output_type": "execute_result"
    }
   ],
   "source": [
    "msft = yf.Ticker(ticker)\n",
    "\n",
    "msft"
   ]
  },
  {
   "cell_type": "code",
   "execution_count": 8,
   "metadata": {},
   "outputs": [
    {
     "data": {
      "text/plain": [
       "{'address1': '1600 Amphitheatre Parkway',\n",
       " 'city': 'Mountain View',\n",
       " 'state': 'CA',\n",
       " 'zip': '94043',\n",
       " 'country': 'United States',\n",
       " 'phone': '650 253 0000',\n",
       " 'website': 'https://abc.xyz',\n",
       " 'industry': 'Internet Content & Information',\n",
       " 'industryKey': 'internet-content-information',\n",
       " 'industryDisp': 'Internet Content & Information',\n",
       " 'sector': 'Communication Services',\n",
       " 'sectorKey': 'communication-services',\n",
       " 'sectorDisp': 'Communication Services',\n",
       " 'longBusinessSummary': 'Alphabet Inc. offers various products and platforms in the United States, Europe, the Middle East, Africa, the Asia-Pacific, Canada, and Latin America. It operates through Google Services, Google Cloud, and Other Bets segments. The Google Services segment provides products and services, including ads, Android, Chrome, devices, Gmail, Google Drive, Google Maps, Google Photos, Google Play, Search, and YouTube. It is also involved in the sale of apps and in-app purchases and digital content in the Google Play and YouTube; and devices, as well as in the provision of YouTube consumer subscription services. The Google Cloud segment offers infrastructure, cybersecurity, databases, analytics, AI, and other services; Google Workspace that include cloud-based communication and collaboration tools for enterprises, such as Gmail, Docs, Drive, Calendar, and Meet; and other services for enterprise customers. The Other Bets segment sells healthcare-related and internet services. The company was incorporated in 1998 and is headquartered in Mountain View, California.',\n",
       " 'fullTimeEmployees': 182502,\n",
       " 'companyOfficers': [{'maxAge': 1,\n",
       "   'name': 'Mr. Sundar  Pichai',\n",
       "   'age': 50,\n",
       "   'title': 'CEO & Director',\n",
       "   'yearBorn': 1973,\n",
       "   'fiscalYear': 2022,\n",
       "   'totalPay': 7947461,\n",
       "   'exercisedValue': 39618220,\n",
       "   'unexercisedValue': 0},\n",
       "  {'maxAge': 1,\n",
       "   'name': 'Ms. Ruth M. Porat',\n",
       "   'age': 65,\n",
       "   'title': 'President, Chief Investment Officer, Senior VP & CFO',\n",
       "   'yearBorn': 1958,\n",
       "   'fiscalYear': 2022,\n",
       "   'totalPay': 1790046,\n",
       "   'exercisedValue': 0,\n",
       "   'unexercisedValue': 0},\n",
       "  {'maxAge': 1,\n",
       "   'name': 'Mr. Lawrence Edward Page',\n",
       "   'age': 50,\n",
       "   'title': 'Co-Founder & Director',\n",
       "   'yearBorn': 1973,\n",
       "   'fiscalYear': 2022,\n",
       "   'totalPay': 1,\n",
       "   'exercisedValue': 0,\n",
       "   'unexercisedValue': 0},\n",
       "  {'maxAge': 1,\n",
       "   'name': 'Mr. Sergey  Brin',\n",
       "   'age': 49,\n",
       "   'title': 'Co-Founder & Director',\n",
       "   'yearBorn': 1974,\n",
       "   'fiscalYear': 2022,\n",
       "   'totalPay': 1,\n",
       "   'exercisedValue': 0,\n",
       "   'unexercisedValue': 0},\n",
       "  {'maxAge': 1,\n",
       "   'name': 'Mr. J. Kent Walker',\n",
       "   'age': 62,\n",
       "   'title': 'President of Global Affairs, Chief Legal Officer & Company Secretary',\n",
       "   'yearBorn': 1961,\n",
       "   'fiscalYear': 2022,\n",
       "   'totalPay': 1787541,\n",
       "   'exercisedValue': 0,\n",
       "   'unexercisedValue': 0},\n",
       "  {'maxAge': 1,\n",
       "   'name': 'Dr. Prabhakar  Raghavan',\n",
       "   'age': 62,\n",
       "   'title': 'Senior Vice President of Knowledge and Information - Google',\n",
       "   'yearBorn': 1961,\n",
       "   'fiscalYear': 2022,\n",
       "   'totalPay': 1785329,\n",
       "   'exercisedValue': 0,\n",
       "   'unexercisedValue': 0},\n",
       "  {'maxAge': 1,\n",
       "   'name': 'Mr. Philipp  Schindler',\n",
       "   'age': 51,\n",
       "   'title': 'Senior Vice President & Chief Business Officer of Google',\n",
       "   'yearBorn': 1972,\n",
       "   'fiscalYear': 2022,\n",
       "   'totalPay': 1785814,\n",
       "   'exercisedValue': 0,\n",
       "   'unexercisedValue': 0},\n",
       "  {'maxAge': 1,\n",
       "   'name': \"Ms. Amie Thuener O'Toole\",\n",
       "   'age': 48,\n",
       "   'title': 'Chief Accounting Officer & VP',\n",
       "   'yearBorn': 1975,\n",
       "   'fiscalYear': 2022,\n",
       "   'exercisedValue': 0,\n",
       "   'unexercisedValue': 0},\n",
       "  {'maxAge': 1,\n",
       "   'name': 'Ms. Ellen  West',\n",
       "   'title': 'Vice President of Investor Relations',\n",
       "   'fiscalYear': 2022,\n",
       "   'exercisedValue': 0,\n",
       "   'unexercisedValue': 0},\n",
       "  {'maxAge': 1,\n",
       "   'name': 'Ms. Fiona Clare Cicconi',\n",
       "   'age': 57,\n",
       "   'title': 'Chief People Officer',\n",
       "   'yearBorn': 1966,\n",
       "   'fiscalYear': 2022,\n",
       "   'exercisedValue': 0,\n",
       "   'unexercisedValue': 0}],\n",
       " 'auditRisk': 10,\n",
       " 'boardRisk': 7,\n",
       " 'compensationRisk': 10,\n",
       " 'shareHolderRightsRisk': 10,\n",
       " 'overallRisk': 10,\n",
       " 'governanceEpochDate': 1706745600,\n",
       " 'compensationAsOfEpochDate': 1672444800,\n",
       " 'maxAge': 86400,\n",
       " 'priceHint': 2,\n",
       " 'previousClose': 144.09,\n",
       " 'open': 143.67,\n",
       " 'dayLow': 143.435,\n",
       " 'dayHigh': 144.68,\n",
       " 'regularMarketPreviousClose': 144.09,\n",
       " 'regularMarketOpen': 143.67,\n",
       " 'regularMarketDayLow': 143.435,\n",
       " 'regularMarketDayHigh': 144.68,\n",
       " 'beta': 1.058,\n",
       " 'trailingPE': 24.82069,\n",
       " 'forwardPE': 18.362246,\n",
       " 'volume': 18990297,\n",
       " 'regularMarketVolume': 18990297,\n",
       " 'averageVolume': 29300800,\n",
       " 'averageVolume10days': 26310540,\n",
       " 'averageDailyVolume10Day': 26310540,\n",
       " 'bid': 143.79,\n",
       " 'ask': 143.95,\n",
       " 'bidSize': 800,\n",
       " 'askSize': 800,\n",
       " 'marketCap': 1797455872000,\n",
       " 'fiftyTwoWeekLow': 89.32,\n",
       " 'fiftyTwoWeekHigh': 153.78,\n",
       " 'priceToSalesTrailing12Months': 5.8474007,\n",
       " 'fiftyDayAverage': 142.2044,\n",
       " 'twoHundredDayAverage': 132.1609,\n",
       " 'currency': 'USD',\n",
       " 'enterpriseValue': 1708805718016,\n",
       " 'profitMargins': 0.24007,\n",
       " 'floatShares': 11098690440,\n",
       " 'sharesOutstanding': 5893000192,\n",
       " 'sharesShort': 49012364,\n",
       " 'sharesShortPriorMonth': 48241754,\n",
       " 'sharesShortPreviousMonthDate': 1703808000,\n",
       " 'dateShortInterest': 1706659200,\n",
       " 'sharesPercentSharesOut': 0.0039,\n",
       " 'heldPercentInsiders': 0.00279,\n",
       " 'heldPercentInstitutions': 0.80525,\n",
       " 'shortRatio': 1.77,\n",
       " 'shortPercentOfFloat': 0.0083,\n",
       " 'impliedSharesOutstanding': 12485799936,\n",
       " 'bookValue': 22.743,\n",
       " 'priceToBook': 6.32986,\n",
       " 'lastFiscalYearEnd': 1703980800,\n",
       " 'nextFiscalYearEnd': 1735603200,\n",
       " 'mostRecentQuarter': 1703980800,\n",
       " 'earningsQuarterlyGrowth': 0.518,\n",
       " 'netIncomeToCommon': 73795002368,\n",
       " 'trailingEps': 5.8,\n",
       " 'forwardEps': 7.84,\n",
       " 'pegRatio': 1.1,\n",
       " 'lastSplitFactor': '20:1',\n",
       " 'lastSplitDate': 1658102400,\n",
       " 'enterpriseToRevenue': 5.559,\n",
       " 'enterpriseToEbitda': 17.059,\n",
       " '52WeekChange': 0.60186934,\n",
       " 'SandP52WeekChange': 0.27787375,\n",
       " 'exchange': 'NMS',\n",
       " 'quoteType': 'EQUITY',\n",
       " 'symbol': 'GOOGL',\n",
       " 'underlyingSymbol': 'GOOGL',\n",
       " 'shortName': 'Alphabet Inc.',\n",
       " 'longName': 'Alphabet Inc.',\n",
       " 'firstTradeDateEpochUtc': 1092922200,\n",
       " 'timeZoneFullName': 'America/New_York',\n",
       " 'timeZoneShortName': 'EST',\n",
       " 'uuid': 'e15ce71f-f533-3912-9f11-a46c09e2412b',\n",
       " 'messageBoardId': 'finmb_29096',\n",
       " 'gmtOffSetMilliseconds': -18000000,\n",
       " 'currentPrice': 143.96,\n",
       " 'targetHighPrice': 180.0,\n",
       " 'targetLowPrice': 127.86,\n",
       " 'targetMeanPrice': 162.06,\n",
       " 'targetMedianPrice': 164.5,\n",
       " 'recommendationMean': 1.9,\n",
       " 'recommendationKey': 'buy',\n",
       " 'numberOfAnalystOpinions': 42,\n",
       " 'totalCash': 110916001792,\n",
       " 'totalCashPerShare': 8.921,\n",
       " 'ebitda': 100171997184,\n",
       " 'totalDebt': 29866999808,\n",
       " 'quickRatio': 1.942,\n",
       " 'currentRatio': 2.097,\n",
       " 'totalRevenue': 307393986560,\n",
       " 'debtToEquity': 10.54,\n",
       " 'revenuePerShare': 24.338,\n",
       " 'returnOnAssets': 0.14366001,\n",
       " 'returnOnEquity': 0.27356002,\n",
       " 'freeCashflow': 58657751040,\n",
       " 'operatingCashflow': 101745999872,\n",
       " 'earningsGrowth': 0.56,\n",
       " 'revenueGrowth': 0.135,\n",
       " 'grossMargins': 0.56937003,\n",
       " 'ebitdaMargins': 0.32587,\n",
       " 'operatingMargins': 0.28849,\n",
       " 'financialCurrency': 'USD',\n",
       " 'trailingPegRatio': 1.3783}"
      ]
     },
     "execution_count": 8,
     "metadata": {},
     "output_type": "execute_result"
    }
   ],
   "source": [
    "msft.info"
   ]
  },
  {
   "cell_type": "code",
   "execution_count": 9,
   "metadata": {},
   "outputs": [
    {
     "data": {
      "text/plain": [
       "(3559, 8)"
      ]
     },
     "execution_count": 9,
     "metadata": {},
     "output_type": "execute_result"
    }
   ],
   "source": [
    "historical_data = msft.history(start=start_date, end=end_date, interval=\"1d\").reset_index()\n",
    "\n",
    "historical_data.shape"
   ]
  },
  {
   "cell_type": "code",
   "execution_count": 10,
   "metadata": {},
   "outputs": [
    {
     "data": {
      "text/html": [
       "<div>\n",
       "<style scoped>\n",
       "    .dataframe tbody tr th:only-of-type {\n",
       "        vertical-align: middle;\n",
       "    }\n",
       "\n",
       "    .dataframe tbody tr th {\n",
       "        vertical-align: top;\n",
       "    }\n",
       "\n",
       "    .dataframe thead th {\n",
       "        text-align: right;\n",
       "    }\n",
       "</style>\n",
       "<table border=\"1\" class=\"dataframe\">\n",
       "  <thead>\n",
       "    <tr style=\"text-align: right;\">\n",
       "      <th></th>\n",
       "      <th>Date</th>\n",
       "      <th>Open</th>\n",
       "      <th>High</th>\n",
       "      <th>Low</th>\n",
       "      <th>Close</th>\n",
       "      <th>Volume</th>\n",
       "      <th>Dividends</th>\n",
       "      <th>Stock Splits</th>\n",
       "    </tr>\n",
       "  </thead>\n",
       "  <tbody>\n",
       "    <tr>\n",
       "      <th>0</th>\n",
       "      <td>2010-01-04 00:00:00-05:00</td>\n",
       "      <td>15.689439</td>\n",
       "      <td>15.753504</td>\n",
       "      <td>15.621622</td>\n",
       "      <td>15.684434</td>\n",
       "      <td>78169752</td>\n",
       "      <td>0.0</td>\n",
       "      <td>0.0</td>\n",
       "    </tr>\n",
       "    <tr>\n",
       "      <th>1</th>\n",
       "      <td>2010-01-05 00:00:00-05:00</td>\n",
       "      <td>15.695195</td>\n",
       "      <td>15.711712</td>\n",
       "      <td>15.554054</td>\n",
       "      <td>15.615365</td>\n",
       "      <td>120067812</td>\n",
       "      <td>0.0</td>\n",
       "      <td>0.0</td>\n",
       "    </tr>\n",
       "    <tr>\n",
       "      <th>2</th>\n",
       "      <td>2010-01-06 00:00:00-05:00</td>\n",
       "      <td>15.662162</td>\n",
       "      <td>15.662162</td>\n",
       "      <td>15.174174</td>\n",
       "      <td>15.221722</td>\n",
       "      <td>158988852</td>\n",
       "      <td>0.0</td>\n",
       "      <td>0.0</td>\n",
       "    </tr>\n",
       "    <tr>\n",
       "      <th>3</th>\n",
       "      <td>2010-01-07 00:00:00-05:00</td>\n",
       "      <td>15.250250</td>\n",
       "      <td>15.265265</td>\n",
       "      <td>14.831081</td>\n",
       "      <td>14.867367</td>\n",
       "      <td>256315428</td>\n",
       "      <td>0.0</td>\n",
       "      <td>0.0</td>\n",
       "    </tr>\n",
       "    <tr>\n",
       "      <th>4</th>\n",
       "      <td>2010-01-08 00:00:00-05:00</td>\n",
       "      <td>14.814815</td>\n",
       "      <td>15.096346</td>\n",
       "      <td>14.742492</td>\n",
       "      <td>15.065566</td>\n",
       "      <td>188783028</td>\n",
       "      <td>0.0</td>\n",
       "      <td>0.0</td>\n",
       "    </tr>\n",
       "  </tbody>\n",
       "</table>\n",
       "</div>"
      ],
      "text/plain": [
       "                       Date       Open       High        Low      Close  \\\n",
       "0 2010-01-04 00:00:00-05:00  15.689439  15.753504  15.621622  15.684434   \n",
       "1 2010-01-05 00:00:00-05:00  15.695195  15.711712  15.554054  15.615365   \n",
       "2 2010-01-06 00:00:00-05:00  15.662162  15.662162  15.174174  15.221722   \n",
       "3 2010-01-07 00:00:00-05:00  15.250250  15.265265  14.831081  14.867367   \n",
       "4 2010-01-08 00:00:00-05:00  14.814815  15.096346  14.742492  15.065566   \n",
       "\n",
       "      Volume  Dividends  Stock Splits  \n",
       "0   78169752        0.0           0.0  \n",
       "1  120067812        0.0           0.0  \n",
       "2  158988852        0.0           0.0  \n",
       "3  256315428        0.0           0.0  \n",
       "4  188783028        0.0           0.0  "
      ]
     },
     "execution_count": 10,
     "metadata": {},
     "output_type": "execute_result"
    }
   ],
   "source": [
    "\n",
    "historical_data.head()"
   ]
  },
  {
   "cell_type": "code",
   "execution_count": 11,
   "metadata": {},
   "outputs": [
    {
     "data": {
      "text/html": [
       "<div>\n",
       "<style scoped>\n",
       "    .dataframe tbody tr th:only-of-type {\n",
       "        vertical-align: middle;\n",
       "    }\n",
       "\n",
       "    .dataframe tbody tr th {\n",
       "        vertical-align: top;\n",
       "    }\n",
       "\n",
       "    .dataframe thead th {\n",
       "        text-align: right;\n",
       "    }\n",
       "</style>\n",
       "<table border=\"1\" class=\"dataframe\">\n",
       "  <thead>\n",
       "    <tr style=\"text-align: right;\">\n",
       "      <th></th>\n",
       "      <th>Date</th>\n",
       "      <th>Open</th>\n",
       "      <th>High</th>\n",
       "      <th>Low</th>\n",
       "      <th>Close</th>\n",
       "      <th>Volume</th>\n",
       "      <th>Dividends</th>\n",
       "      <th>Stock Splits</th>\n",
       "    </tr>\n",
       "  </thead>\n",
       "  <tbody>\n",
       "    <tr>\n",
       "      <th>3554</th>\n",
       "      <td>2024-02-16 00:00:00-05:00</td>\n",
       "      <td>142.990005</td>\n",
       "      <td>143.190002</td>\n",
       "      <td>140.139999</td>\n",
       "      <td>140.520004</td>\n",
       "      <td>31451100</td>\n",
       "      <td>0.0</td>\n",
       "      <td>0.0</td>\n",
       "    </tr>\n",
       "    <tr>\n",
       "      <th>3555</th>\n",
       "      <td>2024-02-20 00:00:00-05:00</td>\n",
       "      <td>139.660004</td>\n",
       "      <td>142.080002</td>\n",
       "      <td>139.490005</td>\n",
       "      <td>141.119995</td>\n",
       "      <td>25144700</td>\n",
       "      <td>0.0</td>\n",
       "      <td>0.0</td>\n",
       "    </tr>\n",
       "    <tr>\n",
       "      <th>3556</th>\n",
       "      <td>2024-02-21 00:00:00-05:00</td>\n",
       "      <td>141.449997</td>\n",
       "      <td>142.690002</td>\n",
       "      <td>140.679993</td>\n",
       "      <td>142.550003</td>\n",
       "      <td>23315700</td>\n",
       "      <td>0.0</td>\n",
       "      <td>0.0</td>\n",
       "    </tr>\n",
       "    <tr>\n",
       "      <th>3557</th>\n",
       "      <td>2024-02-22 00:00:00-05:00</td>\n",
       "      <td>144.929993</td>\n",
       "      <td>145.000000</td>\n",
       "      <td>142.800003</td>\n",
       "      <td>144.089996</td>\n",
       "      <td>27191900</td>\n",
       "      <td>0.0</td>\n",
       "      <td>0.0</td>\n",
       "    </tr>\n",
       "    <tr>\n",
       "      <th>3558</th>\n",
       "      <td>2024-02-23 00:00:00-05:00</td>\n",
       "      <td>143.669998</td>\n",
       "      <td>144.679993</td>\n",
       "      <td>143.429993</td>\n",
       "      <td>143.960007</td>\n",
       "      <td>19475800</td>\n",
       "      <td>0.0</td>\n",
       "      <td>0.0</td>\n",
       "    </tr>\n",
       "  </tbody>\n",
       "</table>\n",
       "</div>"
      ],
      "text/plain": [
       "                          Date        Open        High         Low  \\\n",
       "3554 2024-02-16 00:00:00-05:00  142.990005  143.190002  140.139999   \n",
       "3555 2024-02-20 00:00:00-05:00  139.660004  142.080002  139.490005   \n",
       "3556 2024-02-21 00:00:00-05:00  141.449997  142.690002  140.679993   \n",
       "3557 2024-02-22 00:00:00-05:00  144.929993  145.000000  142.800003   \n",
       "3558 2024-02-23 00:00:00-05:00  143.669998  144.679993  143.429993   \n",
       "\n",
       "           Close    Volume  Dividends  Stock Splits  \n",
       "3554  140.520004  31451100        0.0           0.0  \n",
       "3555  141.119995  25144700        0.0           0.0  \n",
       "3556  142.550003  23315700        0.0           0.0  \n",
       "3557  144.089996  27191900        0.0           0.0  \n",
       "3558  143.960007  19475800        0.0           0.0  "
      ]
     },
     "execution_count": 11,
     "metadata": {},
     "output_type": "execute_result"
    }
   ],
   "source": [
    "historical_data.tail()"
   ]
  },
  {
   "cell_type": "code",
   "execution_count": 12,
   "metadata": {},
   "outputs": [
    {
     "data": {
      "text/html": [
       "<div>\n",
       "<style scoped>\n",
       "    .dataframe tbody tr th:only-of-type {\n",
       "        vertical-align: middle;\n",
       "    }\n",
       "\n",
       "    .dataframe tbody tr th {\n",
       "        vertical-align: top;\n",
       "    }\n",
       "\n",
       "    .dataframe thead th {\n",
       "        text-align: right;\n",
       "    }\n",
       "</style>\n",
       "<table border=\"1\" class=\"dataframe\">\n",
       "  <thead>\n",
       "    <tr style=\"text-align: right;\">\n",
       "      <th></th>\n",
       "      <th>Open</th>\n",
       "      <th>High</th>\n",
       "      <th>Low</th>\n",
       "      <th>Close</th>\n",
       "      <th>Volume</th>\n",
       "      <th>Dividends</th>\n",
       "      <th>Stock Splits</th>\n",
       "    </tr>\n",
       "  </thead>\n",
       "  <tbody>\n",
       "    <tr>\n",
       "      <th>count</th>\n",
       "      <td>3559.000000</td>\n",
       "      <td>3559.000000</td>\n",
       "      <td>3559.000000</td>\n",
       "      <td>3559.000000</td>\n",
       "      <td>3.559000e+03</td>\n",
       "      <td>3559.0</td>\n",
       "      <td>3559.000000</td>\n",
       "    </tr>\n",
       "    <tr>\n",
       "      <th>mean</th>\n",
       "      <td>55.017723</td>\n",
       "      <td>55.586557</td>\n",
       "      <td>54.458904</td>\n",
       "      <td>55.037712</td>\n",
       "      <td>5.792022e+07</td>\n",
       "      <td>0.0</td>\n",
       "      <td>0.006181</td>\n",
       "    </tr>\n",
       "    <tr>\n",
       "      <th>std</th>\n",
       "      <td>39.931323</td>\n",
       "      <td>40.397822</td>\n",
       "      <td>39.495976</td>\n",
       "      <td>39.957404</td>\n",
       "      <td>4.828160e+07</td>\n",
       "      <td>0.0</td>\n",
       "      <td>0.336907</td>\n",
       "    </tr>\n",
       "    <tr>\n",
       "      <th>min</th>\n",
       "      <td>10.968719</td>\n",
       "      <td>11.068068</td>\n",
       "      <td>10.851602</td>\n",
       "      <td>10.912663</td>\n",
       "      <td>9.312000e+06</td>\n",
       "      <td>0.0</td>\n",
       "      <td>0.000000</td>\n",
       "    </tr>\n",
       "    <tr>\n",
       "      <th>25%</th>\n",
       "      <td>22.011136</td>\n",
       "      <td>22.179054</td>\n",
       "      <td>21.875876</td>\n",
       "      <td>22.022523</td>\n",
       "      <td>2.824200e+07</td>\n",
       "      <td>0.0</td>\n",
       "      <td>0.000000</td>\n",
       "    </tr>\n",
       "    <tr>\n",
       "      <th>50%</th>\n",
       "      <td>41.504501</td>\n",
       "      <td>41.732498</td>\n",
       "      <td>41.230000</td>\n",
       "      <td>41.493000</td>\n",
       "      <td>3.918000e+07</td>\n",
       "      <td>0.0</td>\n",
       "      <td>0.000000</td>\n",
       "    </tr>\n",
       "    <tr>\n",
       "      <th>75%</th>\n",
       "      <td>75.330250</td>\n",
       "      <td>76.040501</td>\n",
       "      <td>74.704750</td>\n",
       "      <td>75.512749</td>\n",
       "      <td>7.622985e+07</td>\n",
       "      <td>0.0</td>\n",
       "      <td>0.000000</td>\n",
       "    </tr>\n",
       "    <tr>\n",
       "      <th>max</th>\n",
       "      <td>152.800003</td>\n",
       "      <td>153.779999</td>\n",
       "      <td>151.429993</td>\n",
       "      <td>153.509995</td>\n",
       "      <td>5.923990e+08</td>\n",
       "      <td>0.0</td>\n",
       "      <td>20.000000</td>\n",
       "    </tr>\n",
       "  </tbody>\n",
       "</table>\n",
       "</div>"
      ],
      "text/plain": [
       "              Open         High          Low        Close        Volume  \\\n",
       "count  3559.000000  3559.000000  3559.000000  3559.000000  3.559000e+03   \n",
       "mean     55.017723    55.586557    54.458904    55.037712  5.792022e+07   \n",
       "std      39.931323    40.397822    39.495976    39.957404  4.828160e+07   \n",
       "min      10.968719    11.068068    10.851602    10.912663  9.312000e+06   \n",
       "25%      22.011136    22.179054    21.875876    22.022523  2.824200e+07   \n",
       "50%      41.504501    41.732498    41.230000    41.493000  3.918000e+07   \n",
       "75%      75.330250    76.040501    74.704750    75.512749  7.622985e+07   \n",
       "max     152.800003   153.779999   151.429993   153.509995  5.923990e+08   \n",
       "\n",
       "       Dividends  Stock Splits  \n",
       "count     3559.0   3559.000000  \n",
       "mean         0.0      0.006181  \n",
       "std          0.0      0.336907  \n",
       "min          0.0      0.000000  \n",
       "25%          0.0      0.000000  \n",
       "50%          0.0      0.000000  \n",
       "75%          0.0      0.000000  \n",
       "max          0.0     20.000000  "
      ]
     },
     "execution_count": 12,
     "metadata": {},
     "output_type": "execute_result"
    }
   ],
   "source": [
    "historical_data.describe()"
   ]
  },
  {
   "cell_type": "code",
   "execution_count": 13,
   "metadata": {},
   "outputs": [],
   "source": [
    "historical_data.drop(\n",
    "    columns=[\"Dividends\", \"Stock Splits\", \"Volume\", \"Open\", \"High\", \"Low\"], inplace=True)"
   ]
  },
  {
   "cell_type": "code",
   "execution_count": 14,
   "metadata": {},
   "outputs": [
    {
     "name": "stdout",
     "output_type": "stream",
     "text": [
      "Min/Max dates: 2010-01-04 00:00:00-05:00 2024-02-23 00:00:00-05:00\n",
      "Date range: 2010-01-04 00:00:00-05:00 2024-02-23 00:00:00-05:00\n"
     ]
    },
    {
     "data": {
      "text/plain": [
       "[datetime.date(2010, 1, 4),\n",
       " datetime.date(2010, 1, 5),\n",
       " datetime.date(2010, 1, 6),\n",
       " datetime.date(2010, 1, 7),\n",
       " datetime.date(2010, 1, 8)]"
      ]
     },
     "execution_count": 14,
     "metadata": {},
     "output_type": "execute_result"
    }
   ],
   "source": [
    "# Create a holiday dataframe\n",
    "min_date, max_date = historical_data.Date.min(), historical_data.Date.max()\n",
    "print(\"Min/Max dates:\", min_date, max_date)\n",
    "\n",
    "date_range = pd.date_range(start=min_date, end=max_date)\n",
    "print(\"Date range:\", date_range.min(), date_range.max())\n",
    "\n",
    "# Find dates not present in historical df - closed stock market holiday\n",
    "holiday_date_range = [d.date() for d in date_range if d not in historical_data.Date]\n",
    "holiday_date_range[:5]"
   ]
  },
  {
   "cell_type": "code",
   "execution_count": 15,
   "metadata": {},
   "outputs": [
    {
     "data": {
      "text/html": [
       "<div>\n",
       "<style scoped>\n",
       "    .dataframe tbody tr th:only-of-type {\n",
       "        vertical-align: middle;\n",
       "    }\n",
       "\n",
       "    .dataframe tbody tr th {\n",
       "        vertical-align: top;\n",
       "    }\n",
       "\n",
       "    .dataframe thead th {\n",
       "        text-align: right;\n",
       "    }\n",
       "</style>\n",
       "<table border=\"1\" class=\"dataframe\">\n",
       "  <thead>\n",
       "    <tr style=\"text-align: right;\">\n",
       "      <th></th>\n",
       "      <th>holiday</th>\n",
       "      <th>ds</th>\n",
       "      <th>lower_bound</th>\n",
       "      <th>upper_bound</th>\n",
       "    </tr>\n",
       "  </thead>\n",
       "  <tbody>\n",
       "    <tr>\n",
       "      <th>0</th>\n",
       "      <td>shutdown</td>\n",
       "      <td>2010-01-04</td>\n",
       "      <td>0</td>\n",
       "      <td>1</td>\n",
       "    </tr>\n",
       "    <tr>\n",
       "      <th>1</th>\n",
       "      <td>shutdown</td>\n",
       "      <td>2010-01-05</td>\n",
       "      <td>0</td>\n",
       "      <td>1</td>\n",
       "    </tr>\n",
       "    <tr>\n",
       "      <th>2</th>\n",
       "      <td>shutdown</td>\n",
       "      <td>2010-01-06</td>\n",
       "      <td>0</td>\n",
       "      <td>1</td>\n",
       "    </tr>\n",
       "    <tr>\n",
       "      <th>3</th>\n",
       "      <td>shutdown</td>\n",
       "      <td>2010-01-07</td>\n",
       "      <td>0</td>\n",
       "      <td>1</td>\n",
       "    </tr>\n",
       "    <tr>\n",
       "      <th>4</th>\n",
       "      <td>shutdown</td>\n",
       "      <td>2010-01-08</td>\n",
       "      <td>0</td>\n",
       "      <td>1</td>\n",
       "    </tr>\n",
       "  </tbody>\n",
       "</table>\n",
       "</div>"
      ],
      "text/plain": [
       "    holiday         ds  lower_bound  upper_bound\n",
       "0  shutdown 2010-01-04            0            1\n",
       "1  shutdown 2010-01-05            0            1\n",
       "2  shutdown 2010-01-06            0            1\n",
       "3  shutdown 2010-01-07            0            1\n",
       "4  shutdown 2010-01-08            0            1"
      ]
     },
     "execution_count": 15,
     "metadata": {},
     "output_type": "execute_result"
    }
   ],
   "source": [
    "\n",
    "holidays = pd.DataFrame({\n",
    "    \"holiday\": \"shutdown\",\n",
    "    \"ds\": pd.to_datetime(holiday_date_range),\n",
    "    \"lower_bound\": 0,\n",
    "    \"upper_bound\": 1,\n",
    "})\n",
    "\n",
    "holidays.head()"
   ]
  },
  {
   "cell_type": "code",
   "execution_count": 42,
   "metadata": {},
   "outputs": [
    {
     "ename": "ModuleNotFoundError",
     "evalue": "No module named 'fbprophet'",
     "output_type": "error",
     "traceback": [
      "\u001b[1;31m---------------------------------------------------------------------------\u001b[0m",
      "\u001b[1;31mModuleNotFoundError\u001b[0m                       Traceback (most recent call last)",
      "Cell \u001b[1;32mIn[42], line 1\u001b[0m\n\u001b[1;32m----> 1\u001b[0m \u001b[38;5;28;01mimport\u001b[39;00m \u001b[38;5;21;01mfbprophet\u001b[39;00m \u001b[38;5;28;01mas\u001b[39;00m \u001b[38;5;21;01mprophet\u001b[39;00m\n",
      "\u001b[1;31mModuleNotFoundError\u001b[0m: No module named 'fbprophet'"
     ]
    }
   ],
   "source": [
    "import fbprophet as prophet"
   ]
  },
  {
   "cell_type": "code",
   "execution_count": 22,
   "metadata": {},
   "outputs": [
    {
     "data": {
      "text/plain": [
       "((3529, 2), (30, 2))"
      ]
     },
     "execution_count": 22,
     "metadata": {},
     "output_type": "execute_result"
    }
   ],
   "source": [
    "\n",
    "validation_period = 30 # 30 days\n",
    "\n",
    "train, validation = historical_data.iloc[:-validation_period], historical_data.iloc[-validation_period:]\n",
    "\n",
    "train.shape, validation.shape"
   ]
  },
  {
   "cell_type": "code",
   "execution_count": 23,
   "metadata": {},
   "outputs": [
    {
     "data": {
      "text/html": [
       "<div>\n",
       "<style scoped>\n",
       "    .dataframe tbody tr th:only-of-type {\n",
       "        vertical-align: middle;\n",
       "    }\n",
       "\n",
       "    .dataframe tbody tr th {\n",
       "        vertical-align: top;\n",
       "    }\n",
       "\n",
       "    .dataframe thead th {\n",
       "        text-align: right;\n",
       "    }\n",
       "</style>\n",
       "<table border=\"1\" class=\"dataframe\">\n",
       "  <thead>\n",
       "    <tr style=\"text-align: right;\">\n",
       "      <th></th>\n",
       "      <th>Date</th>\n",
       "      <th>Close</th>\n",
       "    </tr>\n",
       "  </thead>\n",
       "  <tbody>\n",
       "    <tr>\n",
       "      <th>0</th>\n",
       "      <td>2010-01-04 00:00:00-05:00</td>\n",
       "      <td>15.684434</td>\n",
       "    </tr>\n",
       "    <tr>\n",
       "      <th>1</th>\n",
       "      <td>2010-01-05 00:00:00-05:00</td>\n",
       "      <td>15.615365</td>\n",
       "    </tr>\n",
       "    <tr>\n",
       "      <th>2</th>\n",
       "      <td>2010-01-06 00:00:00-05:00</td>\n",
       "      <td>15.221722</td>\n",
       "    </tr>\n",
       "    <tr>\n",
       "      <th>3</th>\n",
       "      <td>2010-01-07 00:00:00-05:00</td>\n",
       "      <td>14.867367</td>\n",
       "    </tr>\n",
       "    <tr>\n",
       "      <th>4</th>\n",
       "      <td>2010-01-08 00:00:00-05:00</td>\n",
       "      <td>15.065566</td>\n",
       "    </tr>\n",
       "  </tbody>\n",
       "</table>\n",
       "</div>"
      ],
      "text/plain": [
       "                       Date      Close\n",
       "0 2010-01-04 00:00:00-05:00  15.684434\n",
       "1 2010-01-05 00:00:00-05:00  15.615365\n",
       "2 2010-01-06 00:00:00-05:00  15.221722\n",
       "3 2010-01-07 00:00:00-05:00  14.867367\n",
       "4 2010-01-08 00:00:00-05:00  15.065566"
      ]
     },
     "execution_count": 23,
     "metadata": {},
     "output_type": "execute_result"
    }
   ],
   "source": [
    "train.head()"
   ]
  },
  {
   "cell_type": "code",
   "execution_count": 25,
   "metadata": {},
   "outputs": [],
   "source": [
    "lag_features = [col for col in historical_data.columns if \"lag\" in col]\n"
   ]
  },
  {
   "cell_type": "code",
   "execution_count": 34,
   "metadata": {},
   "outputs": [],
   "source": [
    "model = prophet.Prophet(yearly_seasonality=True, weekly_seasonality=True, seasonality_mode=\"additive\")\n"
   ]
  },
  {
   "cell_type": "code",
   "execution_count": 46,
   "metadata": {},
   "outputs": [
    {
     "ename": "ModuleNotFoundError",
     "evalue": "No module named 'fbprophet'",
     "output_type": "error",
     "traceback": [
      "\u001b[1;31m---------------------------------------------------------------------------\u001b[0m",
      "\u001b[1;31mModuleNotFoundError\u001b[0m                       Traceback (most recent call last)",
      "Cell \u001b[1;32mIn[46], line 1\u001b[0m\n\u001b[1;32m----> 1\u001b[0m \u001b[38;5;28;01mfrom\u001b[39;00m \u001b[38;5;21;01mfbprophet\u001b[39;00m \u001b[38;5;28;01mimport\u001b[39;00m Prophet\n\u001b[0;32m      2\u001b[0m model \u001b[38;5;241m=\u001b[39m prophet()\n\u001b[0;32m      4\u001b[0m \u001b[38;5;66;03m# Remove timezone from 'ds' column\u001b[39;00m\n",
      "\u001b[1;31mModuleNotFoundError\u001b[0m: No module named 'fbprophet'"
     ]
    }
   ],
   "source": [
    "\n",
    "from fbprophet import Prophet\n",
    "model = prophet()\n",
    "\n",
    "# Remove timezone from 'ds' column\n",
    "train['ds'] = train['ds'].dt.tz_localize(None)\n",
    "\n",
    "# Fit the model\n",
    "model.fit(train)"
   ]
  },
  {
   "cell_type": "code",
   "execution_count": 41,
   "metadata": {},
   "outputs": [
    {
     "ename": "ValueError",
     "evalue": "Column ds has timezone specified, which is not supported. Remove timezone.",
     "output_type": "error",
     "traceback": [
      "\u001b[1;31m---------------------------------------------------------------------------\u001b[0m",
      "\u001b[1;31mValueError\u001b[0m                                Traceback (most recent call last)",
      "Cell \u001b[1;32mIn[41], line 4\u001b[0m\n\u001b[0;32m      1\u001b[0m \u001b[38;5;28;01mfor\u001b[39;00m name \u001b[38;5;129;01min\u001b[39;00m lag_features:\n\u001b[0;32m      2\u001b[0m     model\u001b[38;5;241m.\u001b[39madd_regressor(name)\n\u001b[1;32m----> 4\u001b[0m \u001b[43mmodel\u001b[49m\u001b[38;5;241;43m.\u001b[39;49m\u001b[43mfit\u001b[49m\u001b[43m(\u001b[49m\u001b[43mdf\u001b[49m\u001b[38;5;241;43m=\u001b[39;49m\u001b[43mtrain\u001b[49m\u001b[38;5;241;43m.\u001b[39;49m\u001b[43mrename\u001b[49m\u001b[43m(\u001b[49m\u001b[43mcolumns\u001b[49m\u001b[38;5;241;43m=\u001b[39;49m\u001b[43m{\u001b[49m\u001b[38;5;124;43m\"\u001b[39;49m\u001b[38;5;124;43mDate\u001b[39;49m\u001b[38;5;124;43m\"\u001b[39;49m\u001b[43m:\u001b[49m\u001b[43m \u001b[49m\u001b[38;5;124;43m\"\u001b[39;49m\u001b[38;5;124;43mds\u001b[39;49m\u001b[38;5;124;43m\"\u001b[39;49m\u001b[43m,\u001b[49m\u001b[43m \u001b[49m\u001b[38;5;124;43m\"\u001b[39;49m\u001b[38;5;124;43mClose\u001b[39;49m\u001b[38;5;124;43m\"\u001b[39;49m\u001b[43m:\u001b[49m\u001b[38;5;124;43m\"\u001b[39;49m\u001b[38;5;124;43my\u001b[39;49m\u001b[38;5;124;43m\"\u001b[39;49m\u001b[43m}\u001b[49m\u001b[43m)\u001b[49m\u001b[43m)\u001b[49m\n",
      "File \u001b[1;32m~\\AppData\\Roaming\\Python\\Python311\\site-packages\\prophet\\forecaster.py:1217\u001b[0m, in \u001b[0;36mProphet.fit\u001b[1;34m(self, df, **kwargs)\u001b[0m\n\u001b[0;32m   1213\u001b[0m \u001b[38;5;28;01mif\u001b[39;00m \u001b[38;5;28mself\u001b[39m\u001b[38;5;241m.\u001b[39mhistory \u001b[38;5;129;01mis\u001b[39;00m \u001b[38;5;129;01mnot\u001b[39;00m \u001b[38;5;28;01mNone\u001b[39;00m:\n\u001b[0;32m   1214\u001b[0m     \u001b[38;5;28;01mraise\u001b[39;00m \u001b[38;5;167;01mException\u001b[39;00m(\u001b[38;5;124m'\u001b[39m\u001b[38;5;124mProphet object can only be fit once. \u001b[39m\u001b[38;5;124m'\u001b[39m\n\u001b[0;32m   1215\u001b[0m                     \u001b[38;5;124m'\u001b[39m\u001b[38;5;124mInstantiate a new object.\u001b[39m\u001b[38;5;124m'\u001b[39m)\n\u001b[1;32m-> 1217\u001b[0m model_inputs \u001b[38;5;241m=\u001b[39m \u001b[38;5;28;43mself\u001b[39;49m\u001b[38;5;241;43m.\u001b[39;49m\u001b[43mpreprocess\u001b[49m\u001b[43m(\u001b[49m\u001b[43mdf\u001b[49m\u001b[43m,\u001b[49m\u001b[43m \u001b[49m\u001b[38;5;241;43m*\u001b[39;49m\u001b[38;5;241;43m*\u001b[39;49m\u001b[43mkwargs\u001b[49m\u001b[43m)\u001b[49m\n\u001b[0;32m   1218\u001b[0m initial_params \u001b[38;5;241m=\u001b[39m \u001b[38;5;28mself\u001b[39m\u001b[38;5;241m.\u001b[39mcalculate_initial_params(model_inputs\u001b[38;5;241m.\u001b[39mK)\n\u001b[0;32m   1220\u001b[0m dat \u001b[38;5;241m=\u001b[39m dataclasses\u001b[38;5;241m.\u001b[39masdict(model_inputs)\n",
      "File \u001b[1;32m~\\AppData\\Roaming\\Python\\Python311\\site-packages\\prophet\\forecaster.py:1135\u001b[0m, in \u001b[0;36mProphet.preprocess\u001b[1;34m(self, df, **kwargs)\u001b[0m\n\u001b[0;32m   1132\u001b[0m     \u001b[38;5;28;01mraise\u001b[39;00m \u001b[38;5;167;01mValueError\u001b[39;00m(\u001b[38;5;124m'\u001b[39m\u001b[38;5;124mDataframe has less than 2 non-NaN rows.\u001b[39m\u001b[38;5;124m'\u001b[39m)\n\u001b[0;32m   1133\u001b[0m \u001b[38;5;28mself\u001b[39m\u001b[38;5;241m.\u001b[39mhistory_dates \u001b[38;5;241m=\u001b[39m pd\u001b[38;5;241m.\u001b[39mto_datetime(pd\u001b[38;5;241m.\u001b[39mSeries(history[\u001b[38;5;124m'\u001b[39m\u001b[38;5;124mds\u001b[39m\u001b[38;5;124m'\u001b[39m]\u001b[38;5;241m.\u001b[39munique(), name\u001b[38;5;241m=\u001b[39m\u001b[38;5;124m'\u001b[39m\u001b[38;5;124mds\u001b[39m\u001b[38;5;124m'\u001b[39m))\u001b[38;5;241m.\u001b[39msort_values()\n\u001b[1;32m-> 1135\u001b[0m \u001b[38;5;28mself\u001b[39m\u001b[38;5;241m.\u001b[39mhistory \u001b[38;5;241m=\u001b[39m \u001b[38;5;28;43mself\u001b[39;49m\u001b[38;5;241;43m.\u001b[39;49m\u001b[43msetup_dataframe\u001b[49m\u001b[43m(\u001b[49m\u001b[43mhistory\u001b[49m\u001b[43m,\u001b[49m\u001b[43m \u001b[49m\u001b[43minitialize_scales\u001b[49m\u001b[38;5;241;43m=\u001b[39;49m\u001b[38;5;28;43;01mTrue\u001b[39;49;00m\u001b[43m)\u001b[49m\n\u001b[0;32m   1136\u001b[0m \u001b[38;5;28mself\u001b[39m\u001b[38;5;241m.\u001b[39mset_auto_seasonalities()\n\u001b[0;32m   1137\u001b[0m seasonal_features, prior_scales, component_cols, modes \u001b[38;5;241m=\u001b[39m (\n\u001b[0;32m   1138\u001b[0m     \u001b[38;5;28mself\u001b[39m\u001b[38;5;241m.\u001b[39mmake_all_seasonality_features(\u001b[38;5;28mself\u001b[39m\u001b[38;5;241m.\u001b[39mhistory))\n",
      "File \u001b[1;32m~\\AppData\\Roaming\\Python\\Python311\\site-packages\\prophet\\forecaster.py:289\u001b[0m, in \u001b[0;36mProphet.setup_dataframe\u001b[1;34m(self, df, initialize_scales)\u001b[0m\n\u001b[0;32m    287\u001b[0m df[\u001b[38;5;124m'\u001b[39m\u001b[38;5;124mds\u001b[39m\u001b[38;5;124m'\u001b[39m] \u001b[38;5;241m=\u001b[39m pd\u001b[38;5;241m.\u001b[39mto_datetime(df[\u001b[38;5;124m'\u001b[39m\u001b[38;5;124mds\u001b[39m\u001b[38;5;124m'\u001b[39m])\n\u001b[0;32m    288\u001b[0m \u001b[38;5;28;01mif\u001b[39;00m df[\u001b[38;5;124m'\u001b[39m\u001b[38;5;124mds\u001b[39m\u001b[38;5;124m'\u001b[39m]\u001b[38;5;241m.\u001b[39mdt\u001b[38;5;241m.\u001b[39mtz \u001b[38;5;129;01mis\u001b[39;00m \u001b[38;5;129;01mnot\u001b[39;00m \u001b[38;5;28;01mNone\u001b[39;00m:\n\u001b[1;32m--> 289\u001b[0m     \u001b[38;5;28;01mraise\u001b[39;00m \u001b[38;5;167;01mValueError\u001b[39;00m(\n\u001b[0;32m    290\u001b[0m         \u001b[38;5;124m'\u001b[39m\u001b[38;5;124mColumn ds has timezone specified, which is not supported. \u001b[39m\u001b[38;5;124m'\u001b[39m\n\u001b[0;32m    291\u001b[0m         \u001b[38;5;124m'\u001b[39m\u001b[38;5;124mRemove timezone.\u001b[39m\u001b[38;5;124m'\u001b[39m\n\u001b[0;32m    292\u001b[0m     )\n\u001b[0;32m    293\u001b[0m \u001b[38;5;28;01mif\u001b[39;00m df[\u001b[38;5;124m'\u001b[39m\u001b[38;5;124mds\u001b[39m\u001b[38;5;124m'\u001b[39m]\u001b[38;5;241m.\u001b[39misnull()\u001b[38;5;241m.\u001b[39many():\n\u001b[0;32m    294\u001b[0m     \u001b[38;5;28;01mraise\u001b[39;00m \u001b[38;5;167;01mValueError\u001b[39;00m(\u001b[38;5;124m'\u001b[39m\u001b[38;5;124mFound NaN in column ds.\u001b[39m\u001b[38;5;124m'\u001b[39m)\n",
      "\u001b[1;31mValueError\u001b[0m: Column ds has timezone specified, which is not supported. Remove timezone."
     ]
    }
   ],
   "source": [
    "for name in lag_features:\n",
    "    model.add_regressor(name)\n",
    "\n",
    "model.fit(df=train.rename(columns={\"Date\": \"ds\", \"Close\":\"y\"}))"
   ]
  },
  {
   "cell_type": "code",
   "execution_count": null,
   "metadata": {},
   "outputs": [],
   "source": []
  }
 ],
 "metadata": {
  "kernelspec": {
   "display_name": "Python 3",
   "language": "python",
   "name": "python3"
  },
  "language_info": {
   "codemirror_mode": {
    "name": "ipython",
    "version": 3
   },
   "file_extension": ".py",
   "mimetype": "text/x-python",
   "name": "python",
   "nbconvert_exporter": "python",
   "pygments_lexer": "ipython3",
   "version": "3.11.2"
  }
 },
 "nbformat": 4,
 "nbformat_minor": 2
}
