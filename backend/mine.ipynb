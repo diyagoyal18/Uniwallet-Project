{
 "cells": [
  {
   "cell_type": "code",
   "execution_count": 130,
   "metadata": {},
   "outputs": [],
   "source": [
    "import numpy as np\n",
    "import pandas as pd\n",
    "import yfinance as yf\n",
    "from sklearn.linear_model import LinearRegression\n",
    "\n",
    "# Function to fetch real-time stock data\n",
    "def fetch_stock_data(symbol):\n",
    "    stock_data = yf.download(symbol, start=\"2018-01-01\", end=\"2024-02-02\")\n",
    "    return stock_data\n",
    "\n"
   ]
  },
  {
   "cell_type": "code",
   "execution_count": 131,
   "metadata": {},
   "outputs": [],
   "source": [
    "# def fetch_stock_data(symbols):\n",
    "#     try:\n",
    "#         max_close_price = float('-inf')\n",
    "#         max_close_symbol = None\n",
    "        \n",
    "#         for symbol in symbols:\n",
    "#             stock_data = yf.download(symbol, start=\"2018-01-01\", end=\"2024-02-22\")\n",
    "            \n",
    "#             if stock_data.empty:\n",
    "#                 print(\"No data available for symbol:\", symbol)\n",
    "#                 continue\n",
    "            \n",
    "#             max_close_price_symbol = stock_data['Close'].max()\n",
    "            \n",
    "#             if max_close_price_symbol > max_close_price:\n",
    "#                 max_close_price = max_close_price_symbol\n",
    "#                 max_close_symbol = symbol\n",
    "                \n",
    "#         if max_close_symbol is None:\n",
    "#             print(\"No data available for any of the symbols\")\n",
    "#             return None\n",
    "        \n",
    "#         print(\"Symbol with maximum closing price:\", max_close_symbol)\n",
    "#         print(\"Maximum closing price:\", max_close_price)\n",
    "        \n",
    "#         return stock_data  # Return the fetched stock data DataFrame\n",
    "#     except Exception as e:\n",
    "#         print(\"Error fetching stock data:\", e)\n",
    "#         return None\n"
   ]
  },
  {
   "cell_type": "code",
   "execution_count": 132,
   "metadata": {},
   "outputs": [
    {
     "name": "stderr",
     "output_type": "stream",
     "text": [
      "[*********************100%%**********************]  1 of 1 completed"
     ]
    },
    {
     "name": "stdout",
     "output_type": "stream",
     "text": [
      "Fetched stock data:\n",
      "                 Open       High        Low      Close  Adj Close    Volume\n",
      "Date                                                                       \n",
      "2023-01-03  89.589996  91.050003  88.519997  89.120003  89.120003  28131200\n",
      "2023-01-04  90.349998  90.650002  87.269997  88.080002  88.080002  34854800\n",
      "2023-01-05  87.470001  87.570000  85.900002  86.199997  86.199997  27194400\n",
      "2023-01-06  86.790001  87.690002  84.860001  87.339996  87.339996  41381500\n",
      "2023-01-09  88.360001  90.050003  87.860001  88.019997  88.019997  29003900\n",
      "Preprocessed features:\n",
      "                 Open       High        Low      Close\n",
      "Date                                                  \n",
      "2023-01-03  89.589996  91.050003  88.519997  89.120003\n",
      "2023-01-04  90.349998  90.650002  87.269997  88.080002\n",
      "2023-01-05  87.470001  87.570000  85.900002  86.199997\n",
      "2023-01-06  86.790001  87.690002  84.860001  87.339996\n",
      "2023-01-09  88.360001  90.050003  87.860001  88.019997\n",
      "Model trained successfully.\n",
      "Predicted stock price: [139.69000244]\n"
     ]
    },
    {
     "name": "stderr",
     "output_type": "stream",
     "text": [
      "\n",
      "C:\\Users\\tbhat\\AppData\\Roaming\\Python\\Python311\\site-packages\\sklearn\\base.py:465: UserWarning: X does not have valid feature names, but LinearRegression was fitted with feature names\n",
      "  warnings.warn(\n"
     ]
    }
   ],
   "source": [
    "def main():\n",
    "    symbol = 'GOOGL'\n",
    "    \n",
    "    # Fetch real-time stock data\n",
    "    stock_data = fetch_stock_data(symbol)\n",
    "    \n",
    "    # Check if data retrieval was successful\n",
    "    if stock_data is None or stock_data.empty:\n",
    "        print(\"Failed to fetch stock data or empty data returned. Exiting.\")\n",
    "        return\n",
    "    \n",
    "    print(\"Fetched stock data:\")\n",
    "    print(stock_data.head())  # Print the first few rows of fetched data\n",
    "    \n",
    "    # Preprocess data\n",
    "    features = preprocess_data(stock_data)\n",
    "    \n",
    "    # Check if features are empty after preprocessing\n",
    "    if features.empty:\n",
    "        print(\"No features available for training. Exiting.\")\n",
    "        return\n",
    "    \n",
    "    print(\"Preprocessed features:\")\n",
    "    print(features.head())  # Print the preprocessed features\n",
    "    \n",
    "    # Extract target variable (e.g., 'Close' price)\n",
    "    target = features['Close']\n",
    "    \n",
    "    # Train model\n",
    "    model = train_model(features, target)\n",
    "    \n",
    "    # Make real-time prediction\n",
    "    latest_data = features.iloc[-1:].values.reshape(1, -1)  # Latest data point for prediction\n",
    "    predicted_price = predict_price(model, latest_data)\n",
    "    print(\"Predicted stock price:\", predicted_price)\n",
    "\n",
    "if __name__ == \"__main__\":\n",
    "    main()"
   ]
  }
 ],
 "metadata": {
  "kernelspec": {
   "display_name": "Python 3",
   "language": "python",
   "name": "python3"
  },
  "language_info": {
   "codemirror_mode": {
    "name": "ipython",
    "version": 3
   },
   "file_extension": ".py",
   "mimetype": "text/x-python",
   "name": "python",
   "nbconvert_exporter": "python",
   "pygments_lexer": "ipython3",
   "version": "3.11.2"
  }
 },
 "nbformat": 4,
 "nbformat_minor": 2
}
